{
  "nbformat": 4,
  "nbformat_minor": 0,
  "metadata": {
    "colab": {
      "provenance": []
    },
    "kernelspec": {
      "name": "python3",
      "display_name": "Python 3"
    },
    "language_info": {
      "name": "python"
    }
  },
  "cells": [
    {
      "cell_type": "code",
      "execution_count": null,
      "metadata": {
        "colab": {
          "base_uri": "https://localhost:8080/"
        },
        "id": "_GeEyXIKlUyb",
        "outputId": "5ff49449-e28e-4c56-faaf-691167b6abd2"
      },
      "outputs": [
        {
          "output_type": "stream",
          "name": "stdout",
          "text": [
            "🤖 Hello! I am CodBot. Type 'bye' to exit the chat.\n",
            "\n",
            "You: bye\n",
            "CodBot: Goodbye! Best of luck with your CodSoft internship! 👋\n"
          ]
        }
      ],
      "source": [
        "# Rule-Based Chatbot for CodSoft AI Internship\n",
        "\n",
        "\n",
        "def chatbot():\n",
        "    print(\"🤖 Hello! I am CodBot. Type 'bye' to exit the chat.\\n\")\n",
        "\n",
        "    while True:\n",
        "        try:\n",
        "            user_input = input(\"You: \").lower()\n",
        "\n",
        "            if 'hello' in user_input or 'hi' in user_input:\n",
        "                print(\"CodBot: Hello! How can I assist you today?\")\n",
        "\n",
        "            elif 'how are you' in user_input:\n",
        "                print(\"CodBot: I'm just code, but I’m running perfectly fine. Thanks!\")\n",
        "\n",
        "            elif 'your name' in user_input:\n",
        "                print(\"CodBot: I'm CodBot, your AI internship buddy 🤖\")\n",
        "\n",
        "            elif 'help' in user_input:\n",
        "                print(\"CodBot: I can help you with your tasks, motivation, or just a friendly chat!\")\n",
        "\n",
        "            elif 'bye' in user_input:\n",
        "                print(\"CodBot: Goodbye! Best of luck with your CodSoft internship! 👋\")\n",
        "                break\n",
        "\n",
        "            else:\n",
        "                print(\"CodBot: Hmm, I didn’t understand that. Could you say it differently?\")\n",
        "\n",
        "        except EOFError:\n",
        "            print(\"CodBot: Chat ended.\")\n",
        "            break\n",
        "\n",
        "# Run chatbot (in Colab this will prompt in the output box)\n",
        "chatbot()\n"
      ]
    }
  ]
}